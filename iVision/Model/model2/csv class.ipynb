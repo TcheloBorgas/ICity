{
 "cells": [
  {
   "cell_type": "code",
   "execution_count": 1,
   "metadata": {},
   "outputs": [
    {
     "data": {
      "text/plain": [
       "False"
      ]
     },
     "execution_count": 1,
     "metadata": {},
     "output_type": "execute_result"
    }
   ],
   "source": [
    "# Importações\n",
    "import os\n",
    "import cv2\n",
    "import pandas as pd\n",
    "import math\n",
    "import numpy as np\n",
    "from keras.utils import np_utils\n",
    "from keras.layers import Dense, InputLayer, Dropout\n",
    "from skimage.transform import resize\n",
    "from keras.applications.vgg16 import preprocess_input, VGG16\n",
    "from keras.preprocessing import image\n",
    "from sklearn.model_selection import train_test_split\n",
    "from keras.models import Sequential\n",
    "from matplotlib import pyplot as plt\n",
    "from dotenv import load_dotenv\n",
    "from keras.preprocessing.image import ImageDataGenerator\n",
    "from keras.callbacks import EarlyStopping\n",
    "\n",
    "# Carregar variáveis de ambiente\n",
    "load_dotenv('amb_var.env')"
   ]
  },
  {
   "cell_type": "code",
   "execution_count": 5,
   "metadata": {},
   "outputs": [],
   "source": [
    "# Separação de frames do vídeo de treinamento\n",
    "count = 0\n",
    "videoFile = r\"C:\\Users\\pytho\\Documents\\GitHub\\Icity\\iVision\\Model\\model2\\fotos\\Acidentes-ICity Train - Made with Clipchamp.mp4\"\n",
    "cap = cv2.VideoCapture(videoFile)\n",
    "frameRate = cap.get(5)  # frame rate\n",
    "while(cap.isOpened()):\n",
    "    frameId = cap.get(1)  # current frame number\n",
    "    ret, frame = cap.read()\n",
    "    if (ret != True):\n",
    "        break\n",
    "    if (frameId % math.floor(frameRate) == 0):\n",
    "        filename = \"%d.jpg\" % count\n",
    "        count += 1\n",
    "        cv2.imwrite(filename, frame)\n",
    "cap.release()"
   ]
  },
  {
   "cell_type": "code",
   "execution_count": 6,
   "metadata": {},
   "outputs": [
    {
     "name": "stderr",
     "output_type": "stream",
     "text": [
      "C:\\Users\\pytho\\AppData\\Local\\Temp\\ipykernel_5620\\1532420825.py:28: DeprecationWarning: ANTIALIAS is deprecated and will be removed in Pillow 10 (2023-07-01). Use LANCZOS or Resampling.LANCZOS instead.\n",
      "  img = img.resize((640, 480), Image.ANTIALIAS)\n"
     ]
    },
    {
     "ename": "KeyboardInterrupt",
     "evalue": "",
     "output_type": "error",
     "traceback": [
      "\u001b[1;31m---------------------------------------------------------------------------\u001b[0m",
      "\u001b[1;31mKeyboardInterrupt\u001b[0m                         Traceback (most recent call last)",
      "Cell \u001b[1;32mIn[6], line 66\u001b[0m\n\u001b[0;32m     64\u001b[0m app \u001b[39m=\u001b[39m ImageLabelingApp(root, IMAGE_FOLDER)\n\u001b[0;32m     65\u001b[0m root\u001b[39m.\u001b[39mprotocol(\u001b[39m\"\u001b[39m\u001b[39mWM_DELETE_WINDOW\u001b[39m\u001b[39m\"\u001b[39m, app\u001b[39m.\u001b[39msave_labels)\n\u001b[1;32m---> 66\u001b[0m root\u001b[39m.\u001b[39;49mmainloop()\n",
      "File \u001b[1;32mc:\\Users\\pytho\\AppData\\Local\\Programs\\Python\\Python39\\lib\\tkinter\\__init__.py:1429\u001b[0m, in \u001b[0;36mMisc.mainloop\u001b[1;34m(self, n)\u001b[0m\n\u001b[0;32m   1427\u001b[0m \u001b[39mdef\u001b[39;00m \u001b[39mmainloop\u001b[39m(\u001b[39mself\u001b[39m, n\u001b[39m=\u001b[39m\u001b[39m0\u001b[39m):\n\u001b[0;32m   1428\u001b[0m \u001b[39m    \u001b[39m\u001b[39m\"\"\"Call the mainloop of Tk.\"\"\"\u001b[39;00m\n\u001b[1;32m-> 1429\u001b[0m     \u001b[39mself\u001b[39;49m\u001b[39m.\u001b[39;49mtk\u001b[39m.\u001b[39;49mmainloop(n)\n",
      "\u001b[1;31mKeyboardInterrupt\u001b[0m: "
     ]
    },
    {
     "ename": "",
     "evalue": "",
     "output_type": "error",
     "traceback": [
      "\u001b[1;31mO Kernel falhou ao executar o código na célula atual ou em uma célula anterior. Examine o código nas células para identificar uma possível causa da falha. Clique <a href=\"https://aka.ms/vscodeJupyterKernelCrash\">aqui</a> para obter mais informações. Consulte o <a href='command:jupyter.viewOutput'>log</a> do Jupyter para obter mais detalhes."
     ]
    }
   ],
   "source": [
    "import tkinter as tk\n",
    "from tkinter import filedialog, messagebox\n",
    "import os\n",
    "import cv2\n",
    "from PIL import Image, ImageTk\n",
    "\n",
    "class ImageLabelingApp:\n",
    "    def __init__(self, root, image_folder):\n",
    "        self.root = root\n",
    "        self.image_folder = image_folder\n",
    "        self.image_files = [f for f in os.listdir(image_folder) if f.endswith(('.png', '.jpg', '.jpeg'))]\n",
    "        self.index = 0\n",
    "        self.labels = {}\n",
    "\n",
    "        self.canvas = tk.Canvas(root)\n",
    "        self.canvas.pack(fill=tk.BOTH, expand=tk.YES)\n",
    "\n",
    "        self.load_image()\n",
    "\n",
    "        self.root.bind(\"<Left>\", self.prev_image)\n",
    "        self.root.bind(\"<Right>\", self.next_image)\n",
    "        self.root.bind(\"a\", self.label_accident)\n",
    "        self.root.bind(\"s\", self.label_no_accident)\n",
    "\n",
    "    def load_image(self):\n",
    "        image_path = os.path.join(self.image_folder, self.image_files[self.index])\n",
    "        img = Image.open(image_path)\n",
    "        img = img.resize((640, 480), Image.ANTIALIAS)\n",
    "        self.tk_image = ImageTk.PhotoImage(img)\n",
    "        self.canvas.create_image(320, 240, image=self.tk_image)\n",
    "        self.root.title(f\"Rotulando {self.image_files[self.index]}\")\n",
    "\n",
    "    def prev_image(self, event):\n",
    "        if self.index > 0:\n",
    "            self.index -= 1\n",
    "            self.load_image()\n",
    "\n",
    "    def next_image(self, event):\n",
    "        if self.index < len(self.image_files) - 1:\n",
    "            self.index += 1\n",
    "            self.load_image()\n",
    "\n",
    "    def label_accident(self, event):\n",
    "        self.labels[self.image_files[self.index]] = \"acidente\"\n",
    "        self.next_image(None)\n",
    "\n",
    "    def label_no_accident(self, event):\n",
    "        self.labels[self.image_files[self.index]] = \"sem acidente\"\n",
    "        self.next_image(None)\n",
    "\n",
    "    def save_labels(self):\n",
    "        with open(\"labels.csv\", \"w\") as f:\n",
    "            f.write(\"Image_ID,Class\\n\")\n",
    "            for img, label in self.labels.items():\n",
    "                f.write(f\"{img},{1 if label == 'acidente' else 0}\\n\")\n",
    "\n",
    "        messagebox.showinfo(\"Informação\", \"Rótulos salvos em labels.csv\")\n",
    "\n",
    "if __name__ == \"__main__\":\n",
    "    IMAGE_FOLDER = r\"C:\\Users\\pytho\\Documents\\GitHub\\Icity\\iVision\\Model\\model2\\fotos\"  # Altere isso para o caminho da sua pasta de imagens\n",
    "\n",
    "    root = tk.Tk()\n",
    "    root.geometry(\"640x480\")\n",
    "    app = ImageLabelingApp(root, IMAGE_FOLDER)\n",
    "    root.protocol(\"WM_DELETE_WINDOW\", app.save_labels)\n",
    "    root.mainloop()\n"
   ]
  }
 ],
 "metadata": {
  "kernelspec": {
   "display_name": "Python 3",
   "language": "python",
   "name": "python3"
  },
  "language_info": {
   "codemirror_mode": {
    "name": "ipython",
    "version": 3
   },
   "file_extension": ".py",
   "mimetype": "text/x-python",
   "name": "python",
   "nbconvert_exporter": "python",
   "pygments_lexer": "ipython3",
   "version": "3.9.13"
  },
  "orig_nbformat": 4
 },
 "nbformat": 4,
 "nbformat_minor": 2
}
